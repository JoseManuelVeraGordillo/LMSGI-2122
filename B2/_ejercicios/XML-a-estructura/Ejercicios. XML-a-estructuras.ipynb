{
 "cells": [
  {
   "cell_type": "markdown",
   "metadata": {},
   "source": [
    "## EJERCICIOS. TRABAJAR con XML en PYTHON\n",
    "\n",
    "### Ejercicios"
   ]
  },
  {
   "cell_type": "markdown",
   "metadata": {},
   "source": [
    "#### Ejercicio 1.\n",
    "\n",
    "Convierte el siguiente archivo XML...\n",
    "\n",
    "```xml\n",
    "<nota>\n",
    "   <para>Pedro</para>\n",
    "   <de>Laura</de>\n",
    "   <titulo>Recordatorio</titulo>\n",
    "   <contenido>A las 7:00 pm en la puerta del teatro</contenido>\n",
    "</nota>\n",
    "```\n",
    "\n",
    "en una estructura de la forma:\n",
    "\n",
    "```javascript\n",
    "{\n",
    "    \"para\": \"Pedro\",\n",
    "    \"de\": \"Laura\",\n",
    "    \"titulo\": \"Recordatorio\",\n",
    "    \"contenido\": \"A las 7:00 pm en la puerta del teatro\"\n",
    "}\n",
    "```"
   ]
  },
  {
   "cell_type": "code",
   "execution_count": null,
   "metadata": {},
   "outputs": [],
   "source": [
    "## Explicación para la resolución del Ejercicio-1\n",
    "import xml.etree.ElementTree as et\n",
    "\n",
    "#como el xml no viene de un fichero, lo asignamos a una variable\n",
    "xml = '''\n",
    "<nota>\n",
    "   <para>Pedro</para>\n",
    "   <de>Laura</de>\n",
    "   <titulo>Recordatorio</titulo>\n",
    "   <contenido>A las 7:00 pm en la puerta del teatro</contenido>\n",
    "</nota>\n",
    "'''\n",
    "\n",
    "# Para parsear desde un string y obtener el nodo raiz. ==> esta instrucción lo hace todo en una única instrucción.\n",
    "root = et.fromstring(xml)\n",
    "\n",
    "# Estos es equivalente, a parsear desde un fichero, y obtener el nodo raiz en 2 instrucciones\n",
    "fichero = \"nota.xml\"\n",
    "tree = et.parse(fichero)\n",
    "root = tree.getroot()\n"
   ]
  },
  {
   "cell_type": "code",
   "execution_count": null,
   "metadata": {},
   "outputs": [],
   "source": [
    "## RESOLUCIÓN EJERCICIO 1 ==============\n"
   ]
  },
  {
   "cell_type": "markdown",
   "metadata": {},
   "source": [
    "#### Ejercicio 2\n",
    "\n",
    "Convierte el siguiente archivo XML...\n",
    "\n",
    "```xml\n",
    "<persona nacimiento=\"1999-10-20\">\n",
    "   <datos>\n",
    "      <nombre>Pepe</nombre>\n",
    "      <apellidos>Garcia</apellidos>\n",
    "      <dni>25390952</dni>\n",
    "   </datos>\n",
    "   <comentario>buena gente...</comentario>\n",
    "</persona>\n",
    "```\n",
    "\n",
    "en una estructura de la forma:\n",
    "\n",
    "```javascript\n",
    "{\n",
    "    \"nombre\": \"Pepe\",\n",
    "    \"apellidos\": \"Garcia\",\n",
    "    \"dni\": \"25390952\",\n",
    "    \"nacimiento\": \"1999-10-20\",\n",
    "    \"comentario\": \"buena gente...\"\n",
    "}\n",
    "```"
   ]
  },
  {
   "cell_type": "code",
   "execution_count": null,
   "metadata": {},
   "outputs": [],
   "source": [
    "## RESOLUCIÓN EJERCICIO 2 ==============\n"
   ]
  },
  {
   "cell_type": "markdown",
   "metadata": {},
   "source": [
    "#### Ejercicio 3\n",
    "\n",
    "Convierte el siguiente archivo XML...\n",
    "\n",
    "```xml\n",
    "<personas>\n",
    "   <persona nacimiento=\"1999-10-20\">\n",
    "      <datos>\n",
    "         <nombre>Pepe</nombre>\n",
    "         <apellidos>Garcia</apellidos>\n",
    "         <dni>47253698A</dni>\n",
    "      </datos>\n",
    "      <comentario>buena gente...</comentario>\n",
    "   </persona>\n",
    "   <persona nacimiento=\"1998-09-20\">\n",
    "      <datos>\n",
    "         <nombre>Marcos</nombre>\n",
    "         <apellidos>Alonso</apellidos>\n",
    "         <dni>45253698G</dni>\n",
    "      </datos>\n",
    "      <comentario>Vive en el extraradio</comentario>\n",
    "   </persona>\n",
    "</personas>\n",
    "```\n",
    "\n",
    "en una estructura de la forma:\n",
    "\n",
    "```python\n",
    "[\n",
    "   {\n",
    "      \"nombre\": \"Pepe\",\n",
    "      \"apellidos\": \"Garcia\",\n",
    "      \"dni\": \"47253698A\",\n",
    "      \"nacimiento\": \"1999-10-20\",\n",
    "      \"comentario\": \"buena gente...\"\n",
    "   }, \n",
    "   {\n",
    "      \"nombre\": \"Marcos\",\n",
    "      \"apellidos\": \"Alonso\",\n",
    "      \"dni\": \"45253698G\",\n",
    "      \"nacimiento\": \"1998-09-20\",\n",
    "      \"comentario\": \"Vive en el extraradio\"\n",
    "   }\n",
    "]\n",
    "```"
   ]
  },
  {
   "cell_type": "code",
   "execution_count": null,
   "metadata": {},
   "outputs": [],
   "source": [
    "## RESOLUCIÓN EJERCICIO 3 ==============\n"
   ]
  },
  {
   "cell_type": "markdown",
   "metadata": {},
   "source": [
    "#### Ejercicio 4\n",
    "\n",
    "Convierte el fichero \"./res/libreria_v1.xml\" en un Dataframe con las siguientes columnas:\n",
    "\n",
    "\"codigo,direccion,propietario_nombre,propietario_telefono\""
   ]
  },
  {
   "cell_type": "code",
   "execution_count": null,
   "metadata": {},
   "outputs": [],
   "source": [
    "## RESOLUCIÓN EJERCICIO 4 ==============\n"
   ]
  },
  {
   "cell_type": "markdown",
   "metadata": {},
   "source": [
    "#### Ejercicio 5\n",
    "\n",
    "Convierte el fichero \"./res/libreria_v1.xml\" en la estrucutura siguiente:\n",
    "\n",
    "```python\n",
    "[\n",
    "   {\n",
    "      \"codigo\": \"1263\",\n",
    "      \"direccion\": \"Juan de Juni, 31\",\n",
    "      \"propietario\": {\n",
    "          \"nombre\": \"Juanito\",\n",
    "          \"telefono\": \"656222111\"\n",
    "      }\n",
    "   }, \n",
    "  ... # tantos elementos en la lista como elementos libreria halla\n",
    "]\n",
    "```"
   ]
  },
  {
   "cell_type": "code",
   "execution_count": null,
   "metadata": {},
   "outputs": [],
   "source": [
    "## RESOLUCIÓN EJERCICIO 5 ==============\n"
   ]
  },
  {
   "cell_type": "markdown",
   "metadata": {},
   "source": [
    "#### Ejercicio 6\n",
    "\n",
    "Convierte el fichero \"./res/grupos.xml\" en la estrucutura siguiente:\n",
    "\n",
    "Una lista con los grupos musicales, y en cada posición un diccionario con la información del grupo.\n",
    "Un grupo puede tener + de un miembro, y la Web y email son opcionales en el XML pero en el diccionario son obligatorios. Si en el XML no existen, se pone su valor por defecto ''.\n",
    "```python\n",
    "[\n",
    "   {\n",
    "      \"codigo\": \"muse\",\n",
    "      \"nombre\": \"MUSE\",\n",
    "      \"miembros\": [\"Matthew Bellamy\",\"Dominic Howard\",\"Chris Wolstenhome\"]\n",
    "      \"nacionalidad\": \"Alemania\",\n",
    "      \"web\": \"www.ponprecioamimusica.org/muse\",\n",
    "      \"email\": \"midireccion@ponprecioamimusica.org\"\n",
    "   }, \n",
    "    {\n",
    "      \"codigo\": \"feed\",\n",
    "      \"nombre\": \"FEEDER\",\n",
    "      \"miembros\": [\"Grant Nicholas\",\"Taka Hirose\",\"Jon Henry Lee\"]\n",
    "      \"nacionalidad\": \"Gran Bretaña\",\n",
    "      \"web\": \"\",\n",
    "      \"email\": \"\"\n",
    "   }, \n",
    "\n",
    "  ... # tantos elementos en la lista como elementos grupo halla\n",
    "]\n",
    "```"
   ]
  },
  {
   "cell_type": "code",
   "execution_count": null,
   "metadata": {},
   "outputs": [],
   "source": [
    "## RESOLUCIÓN EJERCICIO 6 ==============\n"
   ]
  },
  {
   "cell_type": "markdown",
   "metadata": {},
   "source": [
    "#### Ejercicio 7\n",
    "\n",
    "Una lista con los platos de la carta de un restaurante, con los diferentes menus o platos.\n",
    "\n",
    "Convierte el fichero \"./res/carta_menu.xml\" en la estrucutura siguiente:\n",
    "\n",
    "```python\n",
    "[\n",
    "   {\n",
    "      \"nombre\": \"Gofres belgas\",\n",
    "      \"precio\": 5.95,  #convertir este valor a float\n",
    "      \"descripcion\": \"Plato 1\",\n",
    "      \"calorias\":  650 #convertir este valor a int\n",
    "   }, \n",
    "\n",
    "  ... # tantos elementos en la lista como elementos plato halla\n",
    "]\n",
    "```"
   ]
  },
  {
   "cell_type": "code",
   "execution_count": null,
   "metadata": {},
   "outputs": [],
   "source": [
    "## RESOLUCIÓN EJERCICIO 7 ==============\n"
   ]
  },
  {
   "cell_type": "markdown",
   "metadata": {},
   "source": [
    "#### Ejercicio 8\n",
    "\n",
    "Una lista con los productos de una tienda, cada producto tiene una serie de características.\n",
    "\n",
    "Convierte el fichero \"./res/productos.xml\" en una estructura formado, por una lista (todos los productos), y en cada posición un producto con sus datos correspondientes (diccionario). Aquellos valores de un producto opcionales, aparecerán dentro del diccionario con su valor por defecto.\n",
    "\n",
    "Ver el siguiente ejemplo:\n",
    "\n",
    "```python\n",
    "[\n",
    "   {\n",
    "      \"codigo\": \"13247A\",\n",
    "      \"categoria\": \"Ordenador\"\n",
    "      \"tipo\":  \"\",  #no viene en el primero producto => se asigna valor por defecto\n",
    "      \"fechaEntrada\": \"10/2015\",\n",
    "      \"cantidad\":  10,  # tipo dato int\n",
    "      \"precio\": 350,  # tipo dato int\n",
    "      \"caracteristicas\": {\n",
    "         \"velocidad\": \"4,4 GHz\",\n",
    "         \"ram\": \"4GB\",\n",
    "         \"almacenamiento\": \"1TB\"\n",
    "      }\n",
    "   }, \n",
    "   {\n",
    "      \"codigo\": \"5122RA\",\n",
    "      \"categoria\": \"Impresora\"ç\n",
    "      \"tipo\": \"laser\",\n",
    "      \"fechaEntrada\": \"10/2015\",\n",
    "      \"cantidad\":  5,  # tipo dato int\n",
    "      \"precio\": 120,  # tipo dato int\n",
    "      \"caracteristicas\": {}, # Si no tiene caracteristicas diccionario vacio\n",
    "   }, \n",
    "\n",
    "  ... # tantos elementos en la lista como elementos 'producto' halla\n",
    "]\n",
    "```"
   ]
  },
  {
   "cell_type": "code",
   "execution_count": 1,
   "metadata": {},
   "outputs": [],
   "source": [
    "## RESOLUCIÓN EJERCICIO 8 ==============\n"
   ]
  }
 ],
 "metadata": {
  "interpreter": {
   "hash": "d566e0234dcd0f8363d289802c41f43d473c13ba992f34bf40043e2502e5c882"
  },
  "kernelspec": {
   "display_name": "Python 3.9.7 64-bit ('3.9.7')",
   "language": "python",
   "name": "python3"
  },
  "language_info": {
   "codemirror_mode": {
    "name": "ipython",
    "version": 3
   },
   "file_extension": ".py",
   "mimetype": "text/x-python",
   "name": "python",
   "nbconvert_exporter": "python",
   "pygments_lexer": "ipython3",
   "version": "3.9.10"
  },
  "orig_nbformat": 4
 },
 "nbformat": 4,
 "nbformat_minor": 2
}
